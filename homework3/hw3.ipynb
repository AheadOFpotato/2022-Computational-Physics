{
 "cells": [
  {
   "cell_type": "markdown",
   "metadata": {},
   "source": [
    "# 1.\n",
    "## (a) 积分区间$[0,+\\infty]$,权函数为$\\exp{(-x)}$,给出前三项正交多项式。"
   ]
  },
  {
   "cell_type": "markdown",
   "metadata": {},
   "source": [
    "权函数为$\\exp(-x)$的正交多项式为Laguerre多项式。\n",
    "其前三项正交多项式由下列递推关系给出：\n",
    "$$p_{-1}(x)=0$$\n",
    "$$p_0(x)=1$$\n",
    "$$p_{i+1}(x)=(x-\\delta_{i+1})p_i(x)-\\gamma_{i+1}^2p_{i-1}(x)$$\n",
    "\n",
    "其中\n",
    "$$\n",
    "\\delta_{i+1}=\\frac{(xp_i,p_i)}{(p_i,p_i)}\\\\\n",
    "\\gamma^2_{i+1}=\\frac{(p_i,p_i)}{(p_{i-1},p_{i-1})}\n",
    "$$\n",
    "\n",
    "所以，\n",
    "$$\n",
    "\\begin{aligned}\n",
    "p_{1}(x)&=(x-\\delta_{1})p_0(x)-\\gamma_{1}^2p_{-1}(x)\\\\\n",
    "&=x-\\delta_{1}\\\\\n",
    "&=x-\\frac{\\int_0^{\\infty} x\\cdot\\exp(-x) dx}{\\int_0^{\\infty} \\exp(-x) dx}\\\\\n",
    "&=x-1\n",
    "\\end{aligned}\n",
    "$$\n",
    "$$\n",
    "p_{2}(x)=(x-\\delta_{2})p_1(x)-\\gamma_{2}^2p_{0}(x)\n",
    "$$\n",
    "其中,\n",
    "\n",
    "$$\n",
    "\\delta_{2}=\\frac{(xp_1,p_1)}{(p_1,p_1)}=3\\\\\n",
    "\\gamma^2_{2}=\\frac{(p_1,p_1)}{(p_{0},p_{0})}=1\n",
    "$$\n",
    "因此，\n",
    "$$\n",
    "p_2(x)=(x-3)\\cdot(x-1)-1=x^2-4x+2\n",
    "$$\n",
    "有：\n",
    "$$\n",
    "\\begin{cases}\n",
    "p_0(x)=1\\\\\n",
    "p_1(x)=x-1\\\\\n",
    "p_2(x)=x^2-4x+2\n",
    "\\end{cases}$$"
   ]
  },
  {
   "cell_type": "markdown",
   "metadata": {},
   "source": [
    "## (b) p2 对应的高斯点的值 $x_1$ 和 $x_2$。"
   ]
  },
  {
   "cell_type": "markdown",
   "metadata": {},
   "source": [
    "$p_2(x)$对应的高斯点为：$2\\pm\\sqrt{2}$\n",
    "$$\n",
    "x_1=2-\\sqrt{2}\\\\\n",
    "x_2=2+\\sqrt{2}\n",
    "$$"
   ]
  },
  {
   "cell_type": "markdown",
   "metadata": {},
   "source": [
    "## (c) 用$x_1$ 和 $x_2$计算$\\int_{0}^{\\infty}\\ln(1-e^{-x})\\mathsf{d}x$。"
   ]
  },
  {
   "cell_type": "markdown",
   "metadata": {},
   "source": [
    "$$\n",
    "\\begin{aligned}\n",
    "\\int_{0}^{\\infty}\\ln(1-e^{-x})\\mathsf{d}x\n",
    "&=\\int_{0}^{\\infty}e^{-x}\\cdot (e^{x}\\ln(1-e^{-x}))\\mathsf{d}x\\\\\n",
    "&=\\int_{0}^{\\infty}e^{-x}f(x)\\mathsf{d}x\\\\\n",
    "&=\\sum_{i=1}^{2}w_i f(x_i)\\\\\n",
    "&=w_1\\cdot f(x_1)+w_2\\cdot f(x_2)\n",
    "\\end{aligned}\n",
    "$$\n",
    "其中，\n",
    "$$\n",
    "f(x)=e^{x}\\ln(1-e^{-x})\n",
    "$$\n",
    "权重因子可以由下列方程组求出：\n",
    "$$\n",
    "\\begin{cases}\n",
    "w_1+w_2=1\\\\\n",
    "w_1x_1+w_2x_2=1\n",
    "\\end{cases}\n",
    "$$\n",
    "得:\n",
    "$$\n",
    "\\begin{cases}\n",
    "w_1=\\frac{1-x_2}{x_1-x_2}=\\frac{1+\\sqrt{2}}{2\\sqrt{2}}\\\\\n",
    "w_2=\\frac{1-x_1}{x_2-x_1}=\\frac{-1+\\sqrt{2}}{2\\sqrt{2}}\n",
    "\\end{cases}\n",
    "$$"
   ]
  },
  {
   "cell_type": "markdown",
   "metadata": {},
   "source": [
    "所以，\n",
    "$$\n",
    "\\begin{aligned}\n",
    "&\\int_{0}^{\\infty}\\ln(1-e^{-x})\\mathsf{d}x\\\\\n",
    "&=\\frac{1+\\sqrt{2}}{2\\sqrt{2}}\\cdot f(2-\\sqrt{2})+\\frac{-1+\\sqrt{2}}{2\\sqrt{2}}\\cdot f(2+\\sqrt{2})\\\\\n",
    "&=-1.396172817\n",
    "\\end{aligned}\n",
    "$$"
   ]
  },
  {
   "cell_type": "markdown",
   "metadata": {},
   "source": [
    "# 2.\n",
    "## (a) 梯形法则"
   ]
  },
  {
   "cell_type": "code",
   "execution_count": 13,
   "metadata": {},
   "outputs": [
    {
     "name": "stdout",
     "output_type": "stream",
     "text": [
      "result for 10 grid points is:  2.023342558686669\n",
      "result for 100 grid points is:  0.27473542480136076\n",
      "result for 1000 grid points is:  0.21998528440244544\n"
     ]
    }
   ],
   "source": [
    "import math\n",
    "\n",
    "\n",
    "def f(x):\n",
    "    return math.exp(-x) / x\n",
    "\n",
    "\n",
    "def trapezoid(N):\n",
    "    h = (100 - 1) / N\n",
    "\n",
    "    def x(i):\n",
    "        return 1 + i * h\n",
    "\n",
    "    return h * (sum([f(x(i))\n",
    "                     for i in range(1, N)]) + 0.5 * f(1) + 0.5 * f(100))\n",
    "\n",
    "\n",
    "print('result for 10 grid points is: ', trapezoid(9))\n",
    "print('result for 100 grid points is: ', trapezoid(99))\n",
    "print('result for 1000 grid points is: ', trapezoid(999))"
   ]
  },
  {
   "cell_type": "markdown",
   "metadata": {},
   "source": [
    "## (b) simpson"
   ]
  },
  {
   "cell_type": "code",
   "execution_count": 15,
   "metadata": {},
   "outputs": [
    {
     "name": "stdout",
     "output_type": "stream",
     "text": [
      "result for 10 grid points is:  0.6761437178920752\n",
      "result for 100 grid points is:  0.2207570044818058\n",
      "result for 1000 grid points is:  0.21938413034561494\n"
     ]
    }
   ],
   "source": [
    "def simpson(N):\n",
    "    h = (100 - 1) / N\n",
    "\n",
    "    def x(i):\n",
    "        return 1 + i * h\n",
    "\n",
    "    def P(n):\n",
    "        return h / (2 * 3) * (f(x(n)) + 4 * f(x(n + 0.5)) + f(x(n + 1)))\n",
    "\n",
    "    return sum([P(i) for i in range(0, N - 2)])\n",
    "\n",
    "\n",
    "print('result for 10 grid points is: ', simpson(9))\n",
    "print('result for 100 grid points is: ', simpson(99))\n",
    "print('result for 1000 grid points is: ', simpson(999))"
   ]
  },
  {
   "cell_type": "markdown",
   "metadata": {},
   "source": [
    "## (c) Gauss-Chebyshev"
   ]
  },
  {
   "cell_type": "markdown",
   "metadata": {},
   "source": [
    "通过积分变换可得：\n",
    "$$\\int_{a}^{b}f(x)dx\\approx\\frac{b-a}{2}\\sum_{i=1}^{n}w_i\\sqrt{1-y_i^2}f(x_i)$$\n",
    "其中，$x_i=\\frac{b-a}{2}y_i+\\frac{b+a}{2}$,$y_i=\\cos{\\frac{(2i-1)\\pi}{2n}}$,$w_i=\\frac{\\pi}{n}$"
   ]
  },
  {
   "cell_type": "code",
   "execution_count": 14,
   "metadata": {},
   "outputs": [
    {
     "name": "stdout",
     "output_type": "stream",
     "text": [
      "result for 10 grid points is:  0.30415212879692216\n",
      "result for 100 grid points is:  0.2201393228738201\n",
      "result for 1000 grid points is:  0.21939142361365782\n"
     ]
    }
   ],
   "source": [
    "def chebyshev(n, a=1, b=100):\n",
    "    def y(i):\n",
    "        return math.cos((2 * i - 1) * math.pi / (2 * n))\n",
    "\n",
    "    def x(i):\n",
    "        return (b - a) / 2 * y(i) + (b + a) / 2\n",
    "\n",
    "    def w(i):\n",
    "        return math.pi/n\n",
    "\n",
    "    return (b-a)/2*sum([w(i)*math.sqrt(1-y(i)**2)*f(x(i)) for i in range(1,n+1)])\n",
    "\n",
    "\n",
    "print('result for 10 grid points is: ', chebyshev(10))\n",
    "print('result for 100 grid points is: ', chebyshev(100))\n",
    "print('result for 1000 grid points is: ', chebyshev(1000))"
   ]
  },
  {
   "cell_type": "markdown",
   "metadata": {},
   "source": [
    "# 3. 求方程正根： $x^2-4x\\sin{x}+(2\\sin{x})^2=0$\n",
    "## (a) 二分法"
   ]
  },
  {
   "cell_type": "markdown",
   "metadata": {},
   "source": [
    "可以将方程化简为：\n",
    "$$\n",
    "x^2-4x\\sin{x}+(2\\sin{x})^2=(x-2\\sin{x})^2=0\n",
    "$$\n",
    "即：\n",
    "$$\n",
    "x-2\\sin{x}=0\n",
    "$$\n",
    "可知此方程正根在$\\frac{\\pi}{2}$与$\\pi$之间。"
   ]
  },
  {
   "cell_type": "code",
   "execution_count": 19,
   "metadata": {},
   "outputs": [
    {
     "name": "stdout",
     "output_type": "stream",
     "text": [
      "the solution is 1.8954942666702563 .\n",
      "(epsilon = 1e-9)\n"
     ]
    }
   ],
   "source": [
    "import numpy as np\n",
    "import math\n",
    "\n",
    "\n",
    "def f(x):\n",
    "    return x - 2 * math.sin(x)\n",
    "\n",
    "\n",
    "def half_cutting(a, b, epsilon):\n",
    "    while b - a > epsilon:\n",
    "        x = a + (b - a) / 2\n",
    "        if np.sign(f(x)) == np.sign(f(a)):\n",
    "            a = x\n",
    "        else:\n",
    "            b = x\n",
    "    return a + (b - a) / 2\n",
    "\n",
    "print('the solution is', half_cutting(math.pi/2,math.pi,1e-9),'.\\n(epsilon = 1e-9)')"
   ]
  },
  {
   "cell_type": "markdown",
   "metadata": {},
   "source": [
    "## (b) Newton-Raphson"
   ]
  },
  {
   "cell_type": "markdown",
   "metadata": {},
   "source": [
    "首先求出$f(x)=x-2\\sin{x}$的导函数：\n",
    "$$\n",
    "f'(x)=1-2\\cos{x}\n",
    "$$"
   ]
  },
  {
   "cell_type": "code",
   "execution_count": 20,
   "metadata": {},
   "outputs": [
    {
     "name": "stdout",
     "output_type": "stream",
     "text": [
      "the solution is 1.895494267034033 .\n",
      "when epsilon 1 =  0.0001 , epsilon 2 =  0.0001\n"
     ]
    }
   ],
   "source": [
    "def df(x):\n",
    "    return 1 - 2 * math.cos(x)\n",
    "\n",
    "\n",
    "def newton_raphson(epsilon_1, epsilon_2, x_0):\n",
    "    k = 0\n",
    "    x = [x_0]\n",
    "    while abs(f(x[k])) > epsilon_1 or abs(x[k] - x[k - 1]) > epsilon_2:\n",
    "        x.append(x[k] - f(x[k]) / df(x[k]))\n",
    "        k += 1\n",
    "    return x[k]\n",
    "\n",
    "epsilon_1 = 1e-4\n",
    "epsilon_2 = 1e-4\n",
    "x_0 = 1\n",
    "print('the solution is', newton_raphson(epsilon_1=epsilon_1, epsilon_2=epsilon_2, x_0 = x_0),'.\\nwhen epsilon 1 = ',epsilon_1,', epsilon 2 = ',epsilon_2)\n"
   ]
  },
  {
   "cell_type": "markdown",
   "metadata": {},
   "source": [
    "## (c) 割线法"
   ]
  },
  {
   "cell_type": "code",
   "execution_count": 26,
   "metadata": {},
   "outputs": [
    {
     "name": "stdout",
     "output_type": "stream",
     "text": [
      "the solution is 1.8954942670152974 .\n",
      "when epsilon 1 =  0.0001 , epsilon 2 =  0.0001\n"
     ]
    },
    {
     "data": {
      "text/plain": [
       "1.8953239150524739"
      ]
     },
     "execution_count": 26,
     "metadata": {},
     "output_type": "execute_result"
    }
   ],
   "source": [
    "def secant(epsilon_1, epsilon_2, x_0, x_1):\n",
    "    k = 1\n",
    "    x = [x_0, x_1]\n",
    "    while abs(f(x[k])) > epsilon_1 or abs(x[k] - x[k - 1]) > epsilon_2:\n",
    "        x.append(x[k] - f(x[k]) * (x[k] - x[k - 1]) / (f(x[k]) - f(x[k - 1])))\n",
    "        k += 1\n",
    "    return x[k]\n",
    "\n",
    "\n",
    "epsilon_1 = 1e-4\n",
    "epsilon_2 = 1e-4\n",
    "x_0 = 1\n",
    "x_1 = 1.0001\n",
    "\n",
    "print('the solution is',\n",
    "      secant(epsilon_1=epsilon_1, epsilon_2=epsilon_2, x_0=x_0, x_1=x_1),\n",
    "      '.\\nwhen epsilon 1 = ', epsilon_1, ', epsilon 2 = ', epsilon_2)\n",
    "\n",
    "secant(0.01, 0.01, 1, 1.1)\n"
   ]
  }
 ],
 "metadata": {
  "kernelspec": {
   "display_name": "Python 3.9.7 ('base')",
   "language": "python",
   "name": "python3"
  },
  "language_info": {
   "codemirror_mode": {
    "name": "ipython",
    "version": 3
   },
   "file_extension": ".py",
   "mimetype": "text/x-python",
   "name": "python",
   "nbconvert_exporter": "python",
   "pygments_lexer": "ipython3",
   "version": "3.9.7"
  },
  "orig_nbformat": 4,
  "vscode": {
   "interpreter": {
    "hash": "5179d32cf6ec497baf3f8a3ef987cc77c5d2dc691fdde20a56316522f61a7323"
   }
  }
 },
 "nbformat": 4,
 "nbformat_minor": 2
}
